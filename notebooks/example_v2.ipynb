{
 "cells": [
  {
   "attachments": {},
   "cell_type": "markdown",
   "metadata": {},
   "source": [
    "# FITS Image Quality Analysis\n",
    "The FITS image contains image and header data. This notebook runs through a couple of examples in..."
   ]
  },
  {
   "cell_type": "code",
   "execution_count": null,
   "metadata": {},
   "outputs": [],
   "source": [
    "#imports\n",
    "from FITSImageQA.imageqa import ImageQA, QAData, QAHeader\n",
    "\n",
    "%load_ext autoreload\n",
    "%autoreload 2\n"
   ]
  },
  {
   "attachments": {},
   "cell_type": "markdown",
   "metadata": {},
   "source": [
    "## The first step is to initilize the FITSImageQA class\n",
    "Can create an `ImageQA` instance, which will hold both `QAData` and `QAHeader`, or can create either of the subclasses directly\n",
    "\n",
    "`ImageQA` will hold three primary attributes:\n",
    "    * `is_corrupt` : bool, checking whether the input FITS file is corrupt\n",
    "    * `qadata` : `QAData` object\n",
    "    * `qahdr` : `QAHeader` object"
   ]
  },
  {
   "cell_type": "code",
   "execution_count": null,
   "metadata": {},
   "outputs": [],
   "source": [
    "imageqa = ImageQA('../FITSImageQA_example_images/hlsp_hlf_hst_wfc3-60mas_goodss_f140w_v2.0_sci_cutout_1arcmin.fits')"
   ]
  },
  {
   "cell_type": "code",
   "execution_count": null,
   "metadata": {},
   "outputs": [],
   "source": [
    "# check whether file is corrupt:\n",
    "imageqa.is_corrupt"
   ]
  },
  {
   "cell_type": "code",
   "execution_count": null,
   "metadata": {},
   "outputs": [],
   "source": [
    "help(imageqa.qadata)"
   ]
  },
  {
   "cell_type": "code",
   "execution_count": null,
   "metadata": {},
   "outputs": [],
   "source": [
    "help(imageqa.qahdr)"
   ]
  },
  {
   "attachments": {},
   "cell_type": "markdown",
   "metadata": {},
   "source": [
    "## Analysis\n",
    "some instruction on how to analyze FITS image"
   ]
  },
  {
   "attachments": {},
   "cell_type": "markdown",
   "metadata": {},
   "source": [
    "### Image header analysis\n",
    "Tasks include:\n",
    "- `check_header_fields_present` : checking whether expected header fields are present\n",
    "    * checked fields can be optionally stored as an attribute\n",
    "    * by default, method will only return True/False. Also have option to return a list of the missing fields, if requested (passing arg `return_missing_fields=True`)\n",
    "- `check_header_fields_dtype` : check if the header fields are of the correct dtype (can check against multiple acceptable dtypes)"
   ]
  },
  {
   "attachments": {},
   "cell_type": "markdown",
   "metadata": {},
   "source": [
    "#### `check_header_fields_present` examples"
   ]
  },
  {
   "cell_type": "code",
   "execution_count": null,
   "metadata": {},
   "outputs": [],
   "source": [
    "qa_header = QAHeader(\"../FITSImageQA_example_images/hlsp_hlf_hst_wfc3-60mas_goodss_f140w_v2.0_sci_cutout_1arcmin.fits\")\n",
    "\n",
    "# Create a list of fields that we know are present, and an additional list with a field we know is *not* present :\n",
    "expected_fields = ['DATE', 'FILTER', 'CRVAL1', 'CRVAL2']\n",
    "expected_fields_bad = expected_fields + ['FIELD_NOT_PRESENT']\n",
    "\n",
    "# show expected fields attribute - it is unchanges, unless we request otherwise\n",
    "print('expected_fields attribute before running the check:', qa_header.expected_fields)\n",
    "print('    result of `check_header_fields_present', qa_header.check_header_fields_present(expected_fields=expected_fields))\n",
    "print('expected_fields attribute after running the check:', qa_header.expected_fields)\n",
    "\n",
    "# optionally, return the missing fields, by setting `return_missing_fields=True`\n",
    "print('\\nMissing field not returned:')\n",
    "print('    result of `check_header_fields_present', qa_header.check_header_fields_present(expected_fields=expected_fields_bad))\n",
    "print(\"Missing field returned:\")\n",
    "print('    result of `check_header_fields_present', qa_header.check_header_fields_present(expected_fields=expected_fields_bad, return_missing_fields=True))\n",
    "print(\"Missing field returned, when no fields are missing:\")\n",
    "print('    result of `check_header_fields_present', qa_header.check_header_fields_present(expected_fields=expected_fields, return_missing_fields=True))\n",
    "\n",
    "### set the locally-input expected fields as a class attribute\n",
    "# show expected fields attribute, before and after storing the locally-passed set \n",
    "print('\\nexpected_fields attribute before running the check:', qa_header.expected_fields)\n",
    "print('    result of `check_header_fields_present', qa_header.check_header_fields_present(expected_fields=expected_fields, overwrite_attribute=True))\n",
    "print('expected_fields attribute after running the check:', qa_header.expected_fields)\n",
    "#print(qa_header.expected_fields)\n",
    "\n",
    "\n"
   ]
  },
  {
   "attachments": {},
   "cell_type": "markdown",
   "metadata": {},
   "source": [
    "#### `check_header_fields_dtype` examples"
   ]
  },
  {
   "cell_type": "code",
   "execution_count": null,
   "metadata": {},
   "outputs": [],
   "source": [
    "qa_header = QAHeader(\"../FITSImageQA_example_images/hlsp_hlf_hst_wfc3-60mas_goodss_f140w_v2.0_sci_cutout_1arcmin.fits\")\n",
    "\n",
    "# Create a list of fields that we know are present:\n",
    "expected_fields_dtype = dict(DATE = str,\n",
    "                             FILTER = str, \n",
    "                             CRVAL1 = [float, str],\n",
    "                             CRVAL2 = [float, str]\n",
    ")\n",
    "print(\"Here's the result of checking the header dtypes:\", qa_header.check_header_fields_dtype(expected_fields_dtype=expected_fields_dtype, exit_on_fail=True))\n",
    "\n",
    "# Add a field that we know is not present in the header\n",
    "expected_fields_dtype_missing = expected_fields_dtype.copy()\n",
    "expected_fields_dtype_missing.update(dict(FIELD_NOT_PRESENT=[int, float]))\n",
    "print(\"\\nHere's the result of checking the header dtypes:\", qa_header.check_header_fields_dtype(expected_fields_dtype=expected_fields_dtype_missing))\n",
    "\n",
    "# Force a failure, and show different behavior\n",
    "expected_fields_dtype_bad = expected_fields_dtype_missing.copy()\n",
    "expected_fields_dtype_bad.update( dict(EXPTIME=str))\n",
    "print(\"\\nHere's the result of checking the header dtypes, collecting the failures:\", qa_header.check_header_fields_dtype(expected_fields_dtype=expected_fields_dtype_bad, return_incorrect_fields=True, exit_on_fail=False))\n",
    "\n",
    "# Optionally, store the input as an attribute\n",
    "print('\\nexpected_fields_dtype attribute before running the check:', qa_header.expected_fields_dtype)\n",
    "print('    result of checking the header dtypes:', qa_header.check_header_fields_dtype(expected_fields_dtype=expected_fields_dtype_missing, return_incorrect_fields=False, exit_on_fail=False, overwrite_attribute=True) )\n",
    "print('expected_fields_dtype attribute after running the check:', qa_header.expected_fields_dtype)\n"
   ]
  },
  {
   "cell_type": "code",
   "execution_count": null,
   "metadata": {},
   "outputs": [],
   "source": [
    "# Show failure, where it fails immediately\n",
    "print(\"\\nHere's the result of checking the header dtypes, crashing on failure:\", qa_header.check_header_fields_dtype(expected_fields_dtype=expected_fields_dtype_bad, exit_on_fail=True))\n"
   ]
  },
  {
   "attachments": {},
   "cell_type": "markdown",
   "metadata": {},
   "source": [
    "### Image data analysis\n",
    "Tasks include:\n",
    "- `detect_sources` : run source detect using `sep` (via `detection.extract_sources`), and store both the catalog and corresponding segmentation map\n",
    "    * can override `sep.extract` source detection parameters by passing them to `detect_sources`\n",
    "- `is_focus_good` : compares the median FWHM of the source detection catalog to a canonical value. Uses the already-stored source detection catalog or implicitly generates the source detection catalog, if `detect_sources` has not been run yet\n",
    "- `display_image` : plot the image, with several options:\n",
    "    * overplot detected sources\n",
    "    * save the image (must include file extension)\n",
    "    * plot using simple matplotlib figure (no WCS axes) or using aplpy"
   ]
  },
  {
   "attachments": {},
   "cell_type": "markdown",
   "metadata": {},
   "source": [
    "#### `detect_sources` examples"
   ]
  },
  {
   "cell_type": "code",
   "execution_count": null,
   "metadata": {},
   "outputs": [],
   "source": [
    "imageqa.qadata.detect_sources()\n",
    "print(\"Get help with the result:\")\n",
    "help(imageqa.qadata.sources)"
   ]
  },
  {
   "cell_type": "code",
   "execution_count": null,
   "metadata": {},
   "outputs": [],
   "source": [
    "### source detection parameters can be set by passing a dictionary to the \n",
    "###     `detection_config` (class attribute, which will eventually be set \n",
    "###     at time of instantiating the object), and by passing additional kwargs\n",
    "sep_kwargs = dict(thresh=1.5, minarea=3., deblend_nthresh=64)\n",
    "\n",
    "### Can detect sources again, but must specify overwrite = True (must forcefully clobber an existing source catalog + segmap)\n",
    "imageqa.qadata.detect_sources(detection_config=sep_kwargs, deblend_cont=0.0025)\n",
    "\n",
    "### Ultimately, we should be storing all of the relevant detection parameters in `self.detection_config`. \n",
    "#       But some are currently buried in the detection.extract_sources defaults\n",
    "\n",
    "print(\"Here is the detection config [to be improved]: \", imageqa.qadata.detection_config)"
   ]
  },
  {
   "attachments": {},
   "cell_type": "markdown",
   "metadata": {},
   "source": [
    "#### quality checks: `is_focus_good`"
   ]
  },
  {
   "cell_type": "code",
   "execution_count": null,
   "metadata": {},
   "outputs": [],
   "source": [
    "# Check if the image is in focus, by comparing the median FWHM to a user-specified value (default = 2.5)\n",
    "is_good, med_fwhm = imageqa.qadata.is_focus_good(max_focus_fwhm=2.5)\n",
    "print(is_good, med_fwhm)"
   ]
  },
  {
   "attachments": {},
   "cell_type": "markdown",
   "metadata": {},
   "source": [
    "## Maybe some visualization\n",
    "Do we need to visualize any of the results from analysis?"
   ]
  },
  {
   "cell_type": "code",
   "execution_count": null,
   "metadata": {},
   "outputs": [],
   "source": [
    "#Visualize some results"
   ]
  },
  {
   "cell_type": "code",
   "execution_count": null,
   "metadata": {},
   "outputs": [],
   "source": [
    "imageqa.qadata.display_image(add_detections=False, vmin=0., vmax=0.05)"
   ]
  },
  {
   "cell_type": "code",
   "execution_count": null,
   "metadata": {},
   "outputs": [],
   "source": []
  }
 ],
 "metadata": {
  "kernelspec": {
   "display_name": "Python 3",
   "language": "python",
   "name": "python3"
  },
  "language_info": {
   "codemirror_mode": {
    "name": "ipython",
    "version": 3
   },
   "file_extension": ".py",
   "mimetype": "text/x-python",
   "name": "python",
   "nbconvert_exporter": "python",
   "pygments_lexer": "ipython3",
   "version": "3.10.12"
  },
  "orig_nbformat": 4
 },
 "nbformat": 4,
 "nbformat_minor": 2
}
