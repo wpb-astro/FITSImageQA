{
 "cells": [
  {
   "attachments": {},
   "cell_type": "markdown",
   "metadata": {},
   "source": [
    "# FITS Image Quality Analysis\n",
    "The FITS image contains image and header data. This notebook runs through a couple of examples in..."
   ]
  },
  {
   "cell_type": "code",
   "execution_count": 55,
   "metadata": {},
   "outputs": [
    {
     "name": "stdout",
     "output_type": "stream",
     "text": [
      "The autoreload extension is already loaded. To reload it, use:\n",
      "  %reload_ext autoreload\n"
     ]
    }
   ],
   "source": [
    "#imports\n",
    "from FITSImageQA.imageqa import QAData, QAHeader\n",
    "\n",
    "%load_ext autoreload\n",
    "%autoreload 2\n"
   ]
  },
  {
   "attachments": {},
   "cell_type": "markdown",
   "metadata": {},
   "source": [
    "## The first step is to initilize the FITSImageQA class\n",
    "some instruction on what to pass into class to create class object"
   ]
  },
  {
   "cell_type": "code",
   "execution_count": 25,
   "metadata": {},
   "outputs": [],
   "source": [
    "#class initialization\n",
    "qa_data = QAData('../FITSImageQA_example_images/hlsp_hlf_hst_wfc3-60mas_goodss_f140w_v2.0_sci_cutout_1arcmin.fits')\n",
    "#qa_data.detect_sources()"
   ]
  },
  {
   "cell_type": "code",
   "execution_count": 51,
   "metadata": {},
   "outputs": [],
   "source": [
    "qa_header = QAHeader(\"../FITSImageQA_example_images/hlsp_hlf_hst_wfc3-60mas_goodss_f140w_v2.0_sci_cutout_1arcmin.fits\")"
   ]
  },
  {
   "attachments": {},
   "cell_type": "markdown",
   "metadata": {},
   "source": [
    "## Analysis\n",
    "some instruction on how to analyze FITS image"
   ]
  },
  {
   "cell_type": "code",
   "execution_count": 3,
   "metadata": {},
   "outputs": [],
   "source": [
    "#object manipulation stuff"
   ]
  },
  {
   "cell_type": "code",
   "execution_count": 28,
   "metadata": {},
   "outputs": [],
   "source": [
    "# Check if the image is in focus, by comparing the median FWHM to a user-specified value (default = 2.5)\n",
    "is_good, med_fwhm = qa_data.is_focus_good(max_focus_fwhm=2.5)"
   ]
  },
  {
   "attachments": {},
   "cell_type": "markdown",
   "metadata": {},
   "source": [
    "### Image header analysis\n",
    "Tasks include:\n",
    "- `check_header_fields_present` checking whether expected header fields are present\n",
    "- `"
   ]
  },
  {
   "cell_type": "code",
   "execution_count": 57,
   "metadata": {},
   "outputs": [
    {
     "data": {
      "text/plain": [
       "SIMPLE  =                    T / conforms to FITS standard                      \n",
       "BITPIX  =                  -32 / array data type                                \n",
       "NAXIS   =                    2 / number of array dimensions                     \n",
       "NAXIS1  =                 1000                                                  \n",
       "NAXIS2  =                 1000                                                  \n",
       "EXTEND  =                    T                                                  \n",
       "DATE    = '2018-05-05'         / last update                                    \n",
       "FILETYPE= 'SCI     '           / type of data found in data file                \n",
       "TELESCOP= 'HST     '           / telescope used to acquire data                 \n",
       "INSTRUME= 'WFC3    '           / identifier for instrument used to acquire data \n",
       "EQUINOX =              2000.0  / [yr] Equinox of equatorial coordinates         \n",
       "EXPTIME =                  1.0 / exposure duration (seconds)--calculated        \n",
       "OBSTYPE = 'IMAGING '           / observation type - imaging or spectroscopic    \n",
       "DETECTOR= 'IR      '           / detector used                                  \n",
       "FILTER  = 'F140W   '           / filter element selected                        \n",
       "BUNIT   = 'ELECTRONS/S'        / brightness units                               \n",
       "ZEROPNT =                26.45 / zeropoint AB magnitude                         \n",
       "TEXPTIME=        115589.763241 / total exposure time                            \n",
       "PROPOSID=                13872 / PEP proposal identifier                        \n",
       "PR_INV_L= 'Illingworth'        / last name of principal investigator            \n",
       "PR_INV_F= 'Garth   '           / first name of principal investigator           \n",
       "PR_INV_M= 'D       '           / middle initial of principal investigator       \n",
       "WCSNAME = 'GAIA    '           / Coordinate system title                        \n",
       "WCSAXES =                    2 / Number of coordinate axes                      \n",
       "CRPIX1  =               2608.5 / Pixel coordinate of reference point            \n",
       "CRPIX2  =               -324.5 / Pixel coordinate of reference point            \n",
       "CDELT1  =                  1.0 / [deg] Coordinate increment at reference point  \n",
       "CDELT2  =                  1.0 / [deg] Coordinate increment at reference point  \n",
       "CUNIT1  = 'deg     '           / Units of coordinate increment and value        \n",
       "CUNIT2  = 'deg     '           / Units of coordinate increment and value        \n",
       "CRVAL1  =      53.122782388889 / [deg] Coordinate value at reference point      \n",
       "CRVAL2  =     -27.805161222222 / [deg] Coordinate value at reference point      \n",
       "LONPOLE =                180.0 / [deg] Native longitude of celestial pole       \n",
       "LATPOLE =     -27.805161222222 / [deg] Native latitude of celestial pole        \n",
       "RADESYS = 'FK5     '           / Equatorial coordinate system                   \n",
       "CTYPE1  = 'RA---TAN'           / Right ascension, gnomonic projection           \n",
       "CTYPE2  = 'DEC--TAN'           / Declination, gnomonic projection               \n",
       "CD1_1   =       -1.6666666E-05 / partial of first axis coordinate w.r.t. x      \n",
       "CD1_2   =                  0.0 / partial of first axis coordinate w.r.t. y      \n",
       "CD2_1   =                  0.0 / partial of second axis coordinate w.r.t. x     \n",
       "CD2_2   =        1.6666666E-05 / partial of second axis coordinate w.r.t. y     \n",
       "LTV1    =                  0.0 / offset in X to subsection start                \n",
       "LTV2    =                  0.0 / offset in Y to subsection start                \n",
       "LTM1_1  =                  1.0 / reciprocal of sampling rate in X               \n",
       "LTM2_2  =                  1.0 / reciprocal of sampling rate in Y               \n",
       "ORIENTAT=                  0.0 / position angle of image y axis (deg. e of n)   \n",
       "HLFVER  = 'Hubble Legacy Field V2.0, 5 June 2018' / HLF version and release dat \n",
       "WCSNAMEA= 'GOODSS  '           / original GOODS-S WCS                           \n",
       "WCSAXESA=                    2                                                  \n",
       "CRPIX1A =              12500.5                                                  \n",
       "CRPIX2A =              12500.5                                                  \n",
       "CDELT1A =                  1.0                                                  \n",
       "CDELT2A =                  1.0                                                  \n",
       "CUNIT1A = 'deg     '                                                            \n",
       "CUNIT2A = 'deg     '                                                            \n",
       "CTYPE1A = 'RA---TAN'                                                            \n",
       "CTYPE2A = 'DEC--TAN'                                                            \n",
       "CRVAL1A =            53.122751                                                  \n",
       "CRVAL2A =           -27.805089                                                  \n",
       "LONPOLEA=                180.0                                                  \n",
       "LATPOLEA=           -27.805089                                                  \n",
       "RADESYSA= 'FK5     '                                                            \n",
       "EQUINOXA=               2000.0                                                  \n",
       "CD1_1A  =       -1.6666666E-05                                                  \n",
       "CD1_2A  =                  0.0                                                  \n",
       "CD2_1A  =                  0.0                                                  \n",
       "CD2_2A  =        1.6666666E-05                                                  \n",
       "PC1_1   =       -1.6666666E-05 / Coordinate transformation matrix element       \n",
       "PC2_2   =        1.6666666E-05 / Coordinate transformation matrix element       \n",
       "MJDREFI =                  0.0 / [d] MJD of fiducial time, integer part         \n",
       "MJDREFF =                  0.0 / [d] MJD of fiducial time, fractional part      \n",
       "MJDREF  =                  0.0 / [d] MJD of fiducial time                       "
      ]
     },
     "execution_count": 57,
     "metadata": {},
     "output_type": "execute_result"
    }
   ],
   "source": [
    "#r = qa_header.fetch_header_info('RA')\n",
    "qa_header.hdr"
   ]
  },
  {
   "cell_type": "code",
   "execution_count": 58,
   "metadata": {},
   "outputs": [
    {
     "data": {
      "text/plain": [
       "True"
      ]
     },
     "execution_count": 58,
     "metadata": {},
     "output_type": "execute_result"
    }
   ],
   "source": [
    "# Create a list of fields that we know are present:\n",
    "expected_fields = ['DATE', 'FILTER', 'CRVAL1', 'CRVAL2']\n",
    "\n",
    "qa_header.check_header_fields_present(expected_fields=expected_fields)"
   ]
  },
  {
   "attachments": {},
   "cell_type": "markdown",
   "metadata": {},
   "source": [
    "## Maybe some visualization\n",
    "Do we need to visualize any of the results from analysis?"
   ]
  },
  {
   "cell_type": "code",
   "execution_count": 4,
   "metadata": {},
   "outputs": [],
   "source": [
    "#Visualize some results"
   ]
  }
 ],
 "metadata": {
  "kernelspec": {
   "display_name": "Python 3",
   "language": "python",
   "name": "python3"
  },
  "language_info": {
   "codemirror_mode": {
    "name": "ipython",
    "version": 3
   },
   "file_extension": ".py",
   "mimetype": "text/x-python",
   "name": "python",
   "nbconvert_exporter": "python",
   "pygments_lexer": "ipython3",
   "version": "3.10.12"
  },
  "orig_nbformat": 4
 },
 "nbformat": 4,
 "nbformat_minor": 2
}
