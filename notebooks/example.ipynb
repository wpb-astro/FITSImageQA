{
 "cells": [
  {
   "attachments": {},
   "cell_type": "markdown",
   "metadata": {},
   "source": [
    "# FITS Image Quality Analysis\n",
    "The FITS image contains image and header data. This notebook runs through a couple of examples in..."
   ]
  },
  {
   "cell_type": "code",
   "execution_count": null,
   "metadata": {},
   "outputs": [],
   "source": [
    "#imports\n",
    "from FITSImageQA.imageqa import QAData, QAHeader\n",
    "\n",
    "%load_ext autoreload\n",
    "%autoreload 2\n"
   ]
  },
  {
   "attachments": {},
   "cell_type": "markdown",
   "metadata": {},
   "source": [
    "## The first step is to initilize the FITSImageQA class\n",
    "some instruction on what to pass into class to create class object"
   ]
  },
  {
   "cell_type": "code",
   "execution_count": null,
   "metadata": {},
   "outputs": [],
   "source": [
    "#class initialization\n",
    "qa_data = QAData('../FITSImageQA_example_images/hlsp_hlf_hst_wfc3-60mas_goodss_f140w_v2.0_sci_cutout_1arcmin.fits')\n",
    "#qa_data.detect_sources()"
   ]
  },
  {
   "cell_type": "code",
   "execution_count": null,
   "metadata": {},
   "outputs": [],
   "source": [
    "qa_header = QAHeader(\"../FITSImageQA_example_images/hlsp_hlf_hst_wfc3-60mas_goodss_f140w_v2.0_sci_cutout_1arcmin.fits\")"
   ]
  },
  {
   "attachments": {},
   "cell_type": "markdown",
   "metadata": {},
   "source": [
    "## Analysis\n",
    "some instruction on how to analyze FITS image"
   ]
  },
  {
   "cell_type": "code",
   "execution_count": null,
   "metadata": {},
   "outputs": [],
   "source": [
    "#object manipulation stuff"
   ]
  },
  {
   "cell_type": "code",
   "execution_count": null,
   "metadata": {},
   "outputs": [],
   "source": [
    "# Check if the image is in focus, by comparing the median FWHM to a user-specified value (default = 2.5)\n",
    "is_good, med_fwhm = qa_data.is_focus_good(max_focus_fwhm=2.5)"
   ]
  },
  {
   "attachments": {},
   "cell_type": "markdown",
   "metadata": {},
   "source": [
    "### Image header analysis\n",
    "Tasks include:\n",
    "- `check_header_fields_present` checking whether expected header fields are present\n",
    "    * checked fields can be optionally stored as an attribute\n",
    "- `check_header_fields_dtype`"
   ]
  },
  {
   "attachments": {},
   "cell_type": "markdown",
   "metadata": {},
   "source": [
    "#### `check_header_fields_present` examples"
   ]
  },
  {
   "cell_type": "code",
   "execution_count": null,
   "metadata": {},
   "outputs": [],
   "source": [
    "qa_header = QAHeader(\"../FITSImageQA_example_images/hlsp_hlf_hst_wfc3-60mas_goodss_f140w_v2.0_sci_cutout_1arcmin.fits\")\n",
    "\n",
    "# Create a list of fields that we know are present:\n",
    "expected_fields = ['DATE', 'FILTER', 'CRVAL1', 'CRVAL2']\n",
    "expected_fields_bad = expected_fields + ['FIELD_NOT_PRESENT']\n",
    "\n",
    "# show expected fields attribute\n",
    "print('expected_fields attribute before running the check:', qa_header.expected_fields)\n",
    "print('    result of `check_header_fields_present', qa_header.check_header_fields_present(expected_fields=expected_fields))\n",
    "print('expected_fields attribute after running the check:', qa_header.expected_fields)\n",
    "\n",
    "# optionally, return the missing field:\n",
    "print('\\nMissing field not returned:')\n",
    "print('    result of `check_header_fields_present', qa_header.check_header_fields_present(expected_fields=expected_fields_bad))\n",
    "print(\"Missing field returned:\")\n",
    "print('    result of `check_header_fields_present', qa_header.check_header_fields_present(expected_fields=expected_fields_bad, return_missing_fields=True))\n",
    "print(\"Missing field returned, when no fields are missing:\")\n",
    "print('    result of `check_header_fields_present', qa_header.check_header_fields_present(expected_fields=expected_fields, return_missing_fields=True))\n",
    "\n",
    "### set the locally-input expected fields as a class attribute\n",
    "# show expected fields attribute\n",
    "print('\\nexpected_fields attribute before running the check:', qa_header.expected_fields)\n",
    "print('    result of `check_header_fields_present', qa_header.check_header_fields_present(expected_fields=expected_fields, overwrite_attribute=True))\n",
    "print('expected_fields attribute after running the check:', qa_header.expected_fields)\n",
    "#print(qa_header.expected_fields)\n",
    "\n",
    "\n"
   ]
  },
  {
   "attachments": {},
   "cell_type": "markdown",
   "metadata": {},
   "source": [
    "#### `check_header_fields_dtype` examples"
   ]
  },
  {
   "cell_type": "code",
   "execution_count": null,
   "metadata": {},
   "outputs": [],
   "source": [
    "qa_header = QAHeader(\"../FITSImageQA_example_images/hlsp_hlf_hst_wfc3-60mas_goodss_f140w_v2.0_sci_cutout_1arcmin.fits\")\n",
    "\n",
    "# Create a list of fields that we know are present:\n",
    "expected_fields_dtype = dict(DATE = str,\n",
    "                             FILTER = str, \n",
    "                             CRVAL1 = [float, str],\n",
    "                             CRVAL2 = [float, str]\n",
    ")\n",
    "print(\"Here's the result of checking the header dtypes:\", qa_header.check_header_fields_dtype(expected_fields_dtype=expected_fields_dtype, exit_on_fail=True))\n",
    "\n",
    "# Add a field that we know is not present in the header\n",
    "expected_fields_dtype_missing = expected_fields_dtype.copy()\n",
    "expected_fields_dtype_missing.update(dict(FIELD_NOT_PRESENT=[int, float]))\n",
    "print(\"\\nHere's the result of checking the header dtypes:\", qa_header.check_header_fields_dtype(expected_fields_dtype=expected_fields_dtype_missing))\n",
    "\n",
    "# Force a failure, and show different behavior\n",
    "expected_fields_dtype_bad = expected_fields_dtype_missing.copy()\n",
    "expected_fields_dtype_bad.update( dict(EXPTIME=str))\n",
    "print(\"\\nHere's the result of checking the header dtypes, collecting the failures:\", qa_header.check_header_fields_dtype(expected_fields_dtype=expected_fields_dtype_bad, return_incorrect_fields=True, exit_on_fail=False))\n",
    "\n",
    "# Optionally, store the input as an attribute\n",
    "print('\\nexpected_fields_dtype attribute before running the check:', qa_header.expected_fields_dtype)\n",
    "print('    result of checking the header dtypes:', qa_header.check_header_fields_dtype(expected_fields_dtype=expected_fields_dtype_missing, return_incorrect_fields=False, exit_on_fail=False, overwrite_attribute=True) )\n",
    "print('expected_fields_dtype attribute after running the check:', qa_header.expected_fields_dtype)\n"
   ]
  },
  {
   "cell_type": "code",
   "execution_count": null,
   "metadata": {},
   "outputs": [],
   "source": [
    "# Show failure, where it fails immediately\n",
    "print(\"\\nHere's the result of checking the header dtypes, crashing on failure:\", qa_header.check_header_fields_dtype(expected_fields_dtype=expected_fields_dtype_bad, exit_on_fail=True))\n"
   ]
  },
  {
   "attachments": {},
   "cell_type": "markdown",
   "metadata": {},
   "source": [
    "## Maybe some visualization\n",
    "Do we need to visualize any of the results from analysis?"
   ]
  },
  {
   "cell_type": "code",
   "execution_count": null,
   "metadata": {},
   "outputs": [],
   "source": [
    "#Visualize some results"
   ]
  },
  {
   "cell_type": "code",
   "execution_count": null,
   "metadata": {},
   "outputs": [],
   "source": [
    "qa_data = QAData('../FITSImageQA_example_images/hlsp_hlf_hst_wfc3-60mas_goodss_f140w_v2.0_sci_cutout_1arcmin.fits')\n",
    "qa_data.display_image(add_detections=False)"
   ]
  },
  {
   "cell_type": "code",
   "execution_count": null,
   "metadata": {},
   "outputs": [],
   "source": []
  }
 ],
 "metadata": {
  "kernelspec": {
   "display_name": "Python 3",
   "language": "python",
   "name": "python3"
  },
  "language_info": {
   "codemirror_mode": {
    "name": "ipython",
    "version": 3
   },
   "file_extension": ".py",
   "mimetype": "text/x-python",
   "name": "python",
   "nbconvert_exporter": "python",
   "pygments_lexer": "ipython3",
   "version": "3.10.12"
  },
  "orig_nbformat": 4
 },
 "nbformat": 4,
 "nbformat_minor": 2
}
