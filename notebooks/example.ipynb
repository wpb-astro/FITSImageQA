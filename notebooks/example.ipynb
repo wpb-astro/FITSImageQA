{
 "cells": [
  {
   "attachments": {},
   "cell_type": "markdown",
   "metadata": {},
   "source": [
    "# FITS Image Quality Analysis\n",
    "The FITS image contains image and header data. This notebook runs through a couple of examples in..."
   ]
  },
  {
   "cell_type": "code",
   "execution_count": 1,
   "metadata": {},
   "outputs": [
    {
     "name": "stderr",
     "output_type": "stream",
     "text": [
      "CRITICAL:root:Unable to import detection submodule!\n"
     ]
    }
   ],
   "source": [
    "#imports\n",
    "\n",
    "### hacky: for now, add our repo to the path (will not be needed, once we are pip-installable)\n",
    "import sys\n",
    "sys.path.append('../src/FITSImageQA')\n",
    "from imageqa import QAData\n",
    "\n"
   ]
  },
  {
   "attachments": {},
   "cell_type": "markdown",
   "metadata": {},
   "source": [
    "## The first step is to initilize the FITSImageQA class\n",
    "some instruction on what to pass into class to create class object"
   ]
  },
  {
   "cell_type": "code",
   "execution_count": 2,
   "metadata": {},
   "outputs": [
    {
     "ename": "NameError",
     "evalue": "name 'detection' is not defined",
     "output_type": "error",
     "traceback": [
      "\u001b[0;31m---------------------------------------------------------------------------\u001b[0m",
      "\u001b[0;31mNameError\u001b[0m                                 Traceback (most recent call last)",
      "Cell \u001b[0;32mIn[2], line 3\u001b[0m\n\u001b[1;32m      1\u001b[0m \u001b[39m#class initialization\u001b[39;00m\n\u001b[1;32m      2\u001b[0m qa_data \u001b[39m=\u001b[39m QAData(\u001b[39m'\u001b[39m\u001b[39m../FITSImageQA_example_images/hlsp_hlf_hst_wfc3-60mas_goodss_f140w_v2.0_sci_cutout_1arcmin.fits\u001b[39m\u001b[39m'\u001b[39m)\n\u001b[0;32m----> 3\u001b[0m qa_data\u001b[39m.\u001b[39;49mdetect_sources()\n",
      "File \u001b[0;32m~/research/git-repos/FITSImageQA/notebooks/../src/FITSImageQA/imageqa.py:264\u001b[0m, in \u001b[0;36mQAData.detect_sources\u001b[0;34m(self, detection_config, overwrite, **kwargs)\u001b[0m\n\u001b[1;32m    261\u001b[0m detection_config[\u001b[39m'\u001b[39m\u001b[39mzp\u001b[39m\u001b[39m'\u001b[39m] \u001b[39m=\u001b[39m zp\n\u001b[1;32m    263\u001b[0m \u001b[39m# run the source detection and store the result\u001b[39;00m\n\u001b[0;32m--> 264\u001b[0m \u001b[39mself\u001b[39m\u001b[39m.\u001b[39msources \u001b[39m=\u001b[39m detection\u001b[39m.\u001b[39mextract_sources(path_or_pixels\u001b[39m=\u001b[39m\u001b[39mself\u001b[39m\u001b[39m.\u001b[39mdata, logger\u001b[39m=\u001b[39m\u001b[39mself\u001b[39m\u001b[39m.\u001b[39mlogger, \u001b[39m*\u001b[39m\u001b[39m*\u001b[39m\u001b[39mself\u001b[39m\u001b[39m.\u001b[39mdetection_config)\n",
      "\u001b[0;31mNameError\u001b[0m: name 'detection' is not defined"
     ]
    }
   ],
   "source": [
    "#class initialization\n",
    "qa_data = QAData('../FITSImageQA_example_images/hlsp_hlf_hst_wfc3-60mas_goodss_f140w_v2.0_sci_cutout_1arcmin.fits')\n",
    "qa_data.detect_sources()"
   ]
  },
  {
   "cell_type": "code",
   "execution_count": null,
   "metadata": {},
   "outputs": [],
   "source": []
  },
  {
   "attachments": {},
   "cell_type": "markdown",
   "metadata": {},
   "source": [
    "## Analysis\n",
    "some instruction on how to analyze FITS image"
   ]
  },
  {
   "cell_type": "code",
   "execution_count": 3,
   "metadata": {},
   "outputs": [],
   "source": [
    "#object manipulation stuff"
   ]
  },
  {
   "attachments": {},
   "cell_type": "markdown",
   "metadata": {},
   "source": [
    "## Maybe some visualization\n",
    "Do we need to visualize any of the results from analysis?"
   ]
  },
  {
   "cell_type": "code",
   "execution_count": 4,
   "metadata": {},
   "outputs": [],
   "source": [
    "#Visualize some results"
   ]
  }
 ],
 "metadata": {
  "kernelspec": {
   "display_name": "Python 3",
   "language": "python",
   "name": "python3"
  },
  "language_info": {
   "codemirror_mode": {
    "name": "ipython",
    "version": 3
   },
   "file_extension": ".py",
   "mimetype": "text/x-python",
   "name": "python",
   "nbconvert_exporter": "python",
   "pygments_lexer": "ipython3",
   "version": "3.10.12"
  },
  "orig_nbformat": 4
 },
 "nbformat": 4,
 "nbformat_minor": 2
}
